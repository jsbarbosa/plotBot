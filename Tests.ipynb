{
 "cells": [
  {
   "cell_type": "code",
   "execution_count": 1,
   "metadata": {},
   "outputs": [],
   "source": [
    "import sys\n",
    "import serial\n",
    "import numpy as np\n",
    "from time import sleep\n",
    "\n",
    "sys.path.append(\"Software\")\n",
    "\n",
    "from plotBot import constants\n",
    "from plotBot.communication import plotBotPort, find_device\n",
    "\n",
    "constants.ENABLE_PRINTING = False"
   ]
  },
  {
   "cell_type": "code",
   "execution_count": 13,
   "metadata": {},
   "outputs": [],
   "source": [
    "port = find_device()\n",
    "bot = plotBotPort(port)"
   ]
  },
  {
   "cell_type": "code",
   "execution_count": 14,
   "metadata": {},
   "outputs": [],
   "source": [
    "x = np.arange(0, bot.X_RESOLUTION, 2)\n",
    "\n",
    "for i in np.arange(bot.Y_RESOLUTION, 0, -5):\n",
    "    x = x[::-1]\n",
    "    for j in x:\n",
    "        while not bot.set_position(j, i, 0):\n",
    "            print(\"ERROR\")\n",
    "            sleep(0.5)"
   ]
  },
  {
   "cell_type": "code",
   "execution_count": 15,
   "metadata": {},
   "outputs": [],
   "source": [
    "bot.close()"
   ]
  },
  {
   "cell_type": "code",
   "execution_count": null,
   "metadata": {},
   "outputs": [],
   "source": []
  },
  {
   "cell_type": "code",
   "execution_count": null,
   "metadata": {},
   "outputs": [],
   "source": []
  }
 ],
 "metadata": {
  "kernelspec": {
   "display_name": "Python 3",
   "language": "python",
   "name": "python3"
  },
  "language_info": {
   "codemirror_mode": {
    "name": "ipython",
    "version": 3
   },
   "file_extension": ".py",
   "mimetype": "text/x-python",
   "name": "python",
   "nbconvert_exporter": "python",
   "pygments_lexer": "ipython3",
   "version": "3.6.9"
  }
 },
 "nbformat": 4,
 "nbformat_minor": 2
}
