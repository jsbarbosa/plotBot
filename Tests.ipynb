{
 "cells": [
  {
   "cell_type": "code",
   "execution_count": 10,
   "metadata": {},
   "outputs": [],
   "source": [
    "import numpy as np\n",
    "import matplotlib.pyplot as plt\n",
    "import matplotlib.patches as patches\n",
    "\n",
    "import serial\n",
    "from time import sleep"
   ]
  },
  {
   "cell_type": "code",
   "execution_count": 2,
   "metadata": {},
   "outputs": [],
   "source": [
    "def plotPosition(x1,\n",
    "                 y1,\n",
    "                 x0=0,\n",
    "                 y0=0,\n",
    "                 source: bool = False,\n",
    "                 ax=None):\n",
    "    \n",
    "    if ax is None:\n",
    "        fig, ax = plt.subplots()\n",
    "    \n",
    "    ax.plot([x0, x1], [y0, y1], c='k')\n",
    "    if source:\n",
    "        ax.scatter([x0], [y0], c='g', s=200)\n",
    "    else:\n",
    "        ax.scatter([x0], [y0], c='r')\n",
    "    return ax"
   ]
  },
  {
   "cell_type": "code",
   "execution_count": 3,
   "metadata": {},
   "outputs": [],
   "source": [
    "class plotBot(object):\n",
    "    def __init__(self,\n",
    "                 inner_length: float = 41,\n",
    "                 outer_length: float = 44,\n",
    "                 distance_between_origins: float = 24,\n",
    "                 x_origin: float = 22,\n",
    "                 y_origin: float = -26):\n",
    "\n",
    "        self.INNER_LENGTH = inner_length\n",
    "        self.OUTER_LENGTH = outer_length\n",
    "        self.DISTANCE_BETWEEN_ORIGINS = distance_between_origins\n",
    "        self.X_ORIGIN = x_origin #: from origin to first motor\n",
    "        self.Y_ORIGIN = y_origin #: from origin to first motor\n",
    "\n",
    "        self.current_x = 0\n",
    "        self.current_y = 0\n",
    "    \n",
    "    def set_position(self, \n",
    "                     x: float,\n",
    "                     y: float):\n",
    "        self.current_x = x\n",
    "        self.current_y = y\n",
    "        \n",
    "    def get_left_angle(self):\n",
    "        x = self.current_x - self.X_ORIGIN\n",
    "        y = self.current_y - self.Y_ORIGIN\n",
    "\n",
    "        r2 = x ** 2 + y ** 2\n",
    "        r = r2 ** 0.5\n",
    "        theta2 = np.arccos((r2 - self.INNER_LENGTH ** 2 - self.OUTER_LENGTH ** 2) / (2 * self.INNER_LENGTH * self.OUTER_LENGTH))\n",
    "\n",
    "        return np.arcsin(self.OUTER_LENGTH * np.sin(theta2) / r) + np.arctan2(y, x)\n",
    "    \n",
    "    def get_left_positions(self):\n",
    "        theta = self.get_left_angle()\n",
    "        \n",
    "        x_motor = self.X_ORIGIN\n",
    "        y_motor = self.Y_ORIGIN\n",
    "        \n",
    "        x = self.INNER_LENGTH * np.cos(theta) + x_motor\n",
    "        y = self.INNER_LENGTH * np.sin(theta) + y_motor\n",
    "        \n",
    "        array = [\n",
    "            (x_motor, y_motor),\n",
    "            (x, y),\n",
    "            (self.current_x, self.current_y)\n",
    "        ]\n",
    "        \n",
    "        return np.array(array)\n",
    "    \n",
    "    def get_right_angle(self):\n",
    "        x = self.current_x - (self.X_ORIGIN + self.DISTANCE_BETWEEN_ORIGINS)\n",
    "        y = self.current_y - self.Y_ORIGIN\n",
    "\n",
    "        r2 = x ** 2 + y ** 2\n",
    "        r = r2 ** 0.5\n",
    "        theta2 = np.arccos((r2 - self.INNER_LENGTH ** 2 - self.OUTER_LENGTH ** 2) / (2 * self.INNER_LENGTH * self.OUTER_LENGTH))\n",
    "\n",
    "        return np.arctan2(y, x) - np.arcsin(self.OUTER_LENGTH * np.sin(theta2) / r)\n",
    "    \n",
    "    def get_right_positions(self):\n",
    "        theta = self.get_right_angle()\n",
    "        \n",
    "        x_motor = self.X_ORIGIN + self.DISTANCE_BETWEEN_ORIGINS\n",
    "        y_motor = self.Y_ORIGIN\n",
    "        \n",
    "        x = self.INNER_LENGTH * np.cos(theta) + x_motor\n",
    "        y = self.INNER_LENGTH * np.sin(theta) + y_motor\n",
    "        \n",
    "        array = [\n",
    "            (x_motor, y_motor),\n",
    "            (x, y),\n",
    "            (self.current_x, self.current_y)\n",
    "        ]\n",
    "        \n",
    "        return np.array(array)"
   ]
  },
  {
   "cell_type": "code",
   "execution_count": 4,
   "metadata": {},
   "outputs": [],
   "source": [
    "pb = plotBot()"
   ]
  },
  {
   "cell_type": "code",
   "execution_count": 10,
   "metadata": {},
   "outputs": [
    {
     "name": "stdout",
     "output_type": "stream",
     "text": [
      "137.37551768056105 117.17070972704984\n"
     ]
    },
    {
     "data": {
      "text/plain": [
       "[<matplotlib.lines.Line2D at 0x7f9cb6cb0d30>]"
      ]
     },
     "execution_count": 10,
     "metadata": {},
     "output_type": "execute_result"
    },
    {
     "data": {
      "image/png": "[encoded data removed]",
      "text/plain": [
       "<Figure size 432x288 with 1 Axes>"
      ]
     },
     "metadata": {
      "needs_background": "light"
     },
     "output_type": "display_data"
    }
   ],
   "source": [
    "pb.set_position(0, 45)\n",
    "theta_left = np.rad2deg(pb.get_left_angle())\n",
    "theta_right = np.rad2deg(pb.get_right_angle())\n",
    "\n",
    "left_arm = pb.get_left_positions()\n",
    "right_arm = pb.get_right_positions()\n",
    "\n",
    "print(theta_left, theta_right)\n",
    "\n",
    "plt.plot(*left_arm.T)\n",
    "plt.plot(*right_arm.T)"
   ]
  },
  {
   "cell_type": "code",
   "execution_count": 36,
   "metadata": {},
   "outputs": [],
   "source": [
    "plotBot = serial.Serial(port='/dev/ttyUSB1', baudrate=9600, timeout=0.5)\n",
    "for i in np.arange(45, 0, -5):\n",
    "    x = np.arange(0, 60, 2)\n",
    "    if i % 2 == 0:\n",
    "        x = x[::-1]\n",
    "    \n",
    "    for j in x:\n",
    "        txt = \"X{} Y{} Z1\".format(j, i)\n",
    "        plotBot.write(txt.encode())\n",
    "        line = plotBot.readline()\n",
    "        if not line:\n",
    "            print('Too fast')\n",
    "            sleep(0.05)\n",
    "plotBot.close()"
   ]
  },
  {
   "cell_type": "code",
   "execution_count": null,
   "metadata": {},
   "outputs": [],
   "source": []
  }
 ],
 "metadata": {
  "kernelspec": {
   "display_name": "Python 3",
   "language": "python",
   "name": "python3"
  },
  "language_info": {
   "codemirror_mode": {
    "name": "ipython",
    "version": 3
   },
   "file_extension": ".py",
   "mimetype": "text/x-python",
   "name": "python",
   "nbconvert_exporter": "python",
   "pygments_lexer": "ipython3",
   "version": "3.6.9"
  }
 },
 "nbformat": 4,
 "nbformat_minor": 2
}
